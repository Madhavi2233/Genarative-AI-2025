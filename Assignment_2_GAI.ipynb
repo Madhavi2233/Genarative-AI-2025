{
  "cells": [
    {
      "cell_type": "markdown",
      "metadata": {
        "id": "view-in-github",
        "colab_type": "text"
      },
      "source": [
        "<a href=\"https://colab.research.google.com/github/Madhavi2233/Genarative-AI-2025/blob/main/Assignment_2_GAI.ipynb\" target=\"_parent\"><img src=\"https://colab.research.google.com/assets/colab-badge.svg\" alt=\"Open In Colab\"/></a>"
      ]
    },
    {
      "cell_type": "code",
      "source": [
        "#1"
      ],
      "metadata": {
        "id": "xKF7u1Un_mSa",
        "outputId": "fdfe5821-b6e8-460d-c08c-6aa9488b95fd",
        "colab": {
          "base_uri": "https://localhost:8080/"
        }
      },
      "execution_count": 3,
      "outputs": [
        {
          "output_type": "stream",
          "name": "stdout",
          "text": [
            "Status: Optimal\n",
            "Status: Optimal\n",
            "Optimal number of units of chocolate A: 2.0\n",
            "Optimal number of units of chocolate B: 3.0\n",
            "Maximum profit: 27.0\n"
          ]
        }
      ]
    },
    {
      "cell_type": "code",
      "source": [
        "import pulp\n",
        "\n",
        "#Create Linear programming problem\n",
        "problem = pulp.LpProblem(\"Chocolate_Profit_Maximization\",pulp.LpMaximize)\n",
        "\n",
        "#Define decision variables\n",
        "a=pulp.LpVariable(\"a\",lowBound=0)\n",
        "b=pulp.LpVariable(\"b\",lowBound=0)\n",
        "\n",
        "#Define objective function(profit maximization)\n",
        "problem += 6*a+5*b\n",
        "\n",
        "#Define constraints\n",
        "problem += a+b<=5 #Milk constraints\n",
        "problem += 3*a+2*b<=12 #choco constraints\n",
        "\n",
        "#Solve the problem\n",
        "problem.solve()\n",
        "\n",
        "#Print the results\n",
        "print(\"Status:\", pulp.LpStatus[problem.status])\n",
        "print(\"Status:\", pulp.LpStatus[problem.status])\n",
        "print(\"Optimal number of units of chocolate A:\", a.value())\n",
        "print(\"Optimal number of units of chocolate B:\", b.value())\n",
        "print(\"Maximum profit:\", pulp.value(problem.objective))"
      ],
      "metadata": {
        "colab": {
          "base_uri": "https://localhost:8080/"
        },
        "id": "RORjh7PtEiYE",
        "outputId": "ce40a189-fbe0-4bb0-b30c-bfd002988281"
      },
      "execution_count": 4,
      "outputs": [
        {
          "output_type": "stream",
          "name": "stdout",
          "text": [
            "Status: Optimal\n",
            "Status: Optimal\n",
            "Optimal number of units of chocolate A: 2.0\n",
            "Optimal number of units of chocolate B: 3.0\n",
            "Maximum profit: 27.0\n"
          ]
        }
      ]
    },
    {
      "cell_type": "code",
      "source": [
        "!pip install pulp"
      ],
      "metadata": {
        "colab": {
          "base_uri": "https://localhost:8080/"
        },
        "id": "6bsU_DuOD-jk",
        "outputId": "f541e0e6-8eba-45e1-848e-caf8b73b5191"
      },
      "execution_count": 2,
      "outputs": [
        {
          "output_type": "stream",
          "name": "stdout",
          "text": [
            "Collecting pulp\n",
            "  Downloading PuLP-2.9.0-py3-none-any.whl.metadata (5.4 kB)\n",
            "Downloading PuLP-2.9.0-py3-none-any.whl (17.7 MB)\n",
            "\u001b[2K   \u001b[90m━━━━━━━━━━━━━━━━━━━━━━━━━━━━━━━━━━━━━━━━\u001b[0m \u001b[32m17.7/17.7 MB\u001b[0m \u001b[31m37.3 MB/s\u001b[0m eta \u001b[36m0:00:00\u001b[0m\n",
            "\u001b[?25hInstalling collected packages: pulp\n",
            "Successfully installed pulp-2.9.0\n"
          ]
        }
      ]
    },
    {
      "cell_type": "code",
      "source": [
        "#2"
      ],
      "metadata": {
        "id": "kerqjJfuEoN8"
      },
      "execution_count": null,
      "outputs": []
    },
    {
      "cell_type": "code",
      "source": [
        "from scipy.optimize import linprog\n",
        "\n",
        "# Define the objective function coefficients (maximize profit)\n",
        "c = [-50, -120]  # Negative coefficients for maximization\n",
        "\n",
        "# Define the inequality constraints (budget and labor)\n",
        "A_ub = [[7000, 2000],  # Budget constraint\n",
        "        [10, 30]]      # Labor constraint\n",
        "b_ub = [700000, 1200]\n",
        "\n",
        "# Define the equality constraint (total land area)\n",
        "A_eq = [[1, 1]]\n",
        "b_eq = [110]\n",
        "\n",
        "# Define the bounds for the variables (non-negative hectares)\n",
        "bounds = [(0, None), (0, None)]\n",
        "\n",
        "# Solve the linear programming problem\n",
        "res = linprog(c, A_ub=A_ub, b_ub=b_ub, A_eq=A_eq, b_eq=b_eq, bounds=bounds)\n",
        "\n",
        "# Print the results\n",
        "if res.success:\n",
        "    print(\"Optimal solution found:\")\n",
        "    print(\"Hectares of Wheat:\", round(res.x[0], 2))\n",
        "    print(\"Hectares of Barley:\", round(res.x[1], 2))\n",
        "    print(\"Optimal profit:\", -round(res.fun, 2))  # Negate the objective function value\n",
        "else:\n",
        "    print(\"Optimal solution not found.\")"
      ],
      "metadata": {
        "id": "zRAXMBJ2Bx67",
        "outputId": "64d2d30b-77a4-4ccb-ce70-4d50763c93b4",
        "colab": {
          "base_uri": "https://localhost:8080/"
        }
      },
      "execution_count": 5,
      "outputs": [
        {
          "output_type": "stream",
          "name": "stdout",
          "text": [
            "Optimal solution not found.\n"
          ]
        }
      ]
    }
  ],
  "metadata": {
    "colab": {
      "toc_visible": true,
      "provenance": [],
      "include_colab_link": true
    },
    "kernelspec": {
      "display_name": "Python 3",
      "name": "python3"
    }
  },
  "nbformat": 4,
  "nbformat_minor": 0
}