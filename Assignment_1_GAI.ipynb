{
  "cells": [
    {
      "cell_type": "markdown",
      "metadata": {
        "id": "view-in-github",
        "colab_type": "text"
      },
      "source": [
        "<a href=\"https://colab.research.google.com/github/Madhavi2233/Genarative-AI-2025/blob/main/Assignment_1_GAI.ipynb\" target=\"_parent\"><img src=\"https://colab.research.google.com/assets/colab-badge.svg\" alt=\"Open In Colab\"/></a>"
      ]
    },
    {
      "cell_type": "code",
      "source": [
        "#1"
      ],
      "metadata": {
        "id": "ojArDXz191Ag"
      },
      "execution_count": null,
      "outputs": []
    },
    {
      "cell_type": "code",
      "source": [
        "import numpy as np\n",
        "from sklearn.metrics import mean_absolute_error, mean_squared_error, r2_score\n",
        "\n",
        "Y_actual = np.array([20, 30, 40, 50, 60])\n",
        "Y_pred = np.array([20.5, 30.3, 40.2, 50.6, 60.7])\n",
        "\n",
        "\n",
        "mae = np.mean(np.abs(Y_actual - Y_pred))\n",
        "\n",
        "mse = np.mean((Y_actual - Y_pred) ** 2)\n",
        "\n",
        "rmse = np.sqrt(mse)\n",
        "\n",
        "\n",
        "ss_total = np.sum((Y_actual - np.mean(Y_actual)) ** 2)\n",
        "ss_residual = np.sum((Y_actual - Y_pred) ** 2)\n",
        "r2 = 1 - (ss_residual / ss_total)\n",
        "\n",
        "print(f\"Calculated MAE (from scratch): {mae}\")\n",
        "print(f\"Calculated MSE (from scratch): {mse}\")\n",
        "print(f\"Calculated RMSE (from scratch): {rmse}\")\n",
        "print(f\"Calculated R² (from scratch): {r2}\")\n",
        "\n",
        "\n",
        "mae_lib = mean_absolute_error(Y_actual, Y_pred)\n",
        "mse_lib = mean_squared_error(Y_actual, Y_pred)\n",
        "rmse_lib = np.sqrt(mse_lib)  # Root Mean Squared Error\n",
        "r2_lib = r2_score(Y_actual, Y_pred)\n"
      ],
      "metadata": {
        "id": "WTk1IEli9100"
      },
      "execution_count": null,
      "outputs": []
    },
    {
      "cell_type": "code",
      "source": [
        "#2"
      ],
      "metadata": {
        "id": "e8aEoD3D97Ok"
      },
      "execution_count": null,
      "outputs": []
    },
    {
      "cell_type": "code",
      "source": [
        "import numpy as np\n",
        "from sklearn.metrics import accuracy_score, precision_score, recall_score, f1_score, confusion_matrix\n",
        "\n",
        "Y_actual = np.array([0, 1, 2, 0, 1, 2, 0, 1, 2, 0, 1, 2])\n",
        "Y_pred = np.array([0, 1, 0, 0, 0, 0, 1, 2, 1, 2, 2, 2])\n",
        "\n",
        "def confusion_matrix_from_scratch(y_true, y_pred):\n",
        "    classes = np.unique(y_true)\n",
        "    matrix = np.zeros((len(classes), len(classes)), dtype=int)\n",
        "\n",
        "    for true, pred in zip(y_true, y_pred):\n",
        "        matrix[true, pred] += 1\n",
        "\n",
        "    return matrix\n",
        "\n",
        "def calculate_precision_recall_f1(matrix):\n",
        "    tp = np.diag(matrix)\n",
        "    fp = np.sum(matrix, axis=0) - tp\n",
        "    fn = np.sum(matrix, axis=1) - tp\n",
        "    precision = tp / (tp + fp)\n",
        "    recall = tp / (tp + fn)\n",
        "    f1 = 2 * (precision * recall) / (precision + recall)\n",
        "\n",
        "    return precision, recall, f1\n",
        "\n",
        "cm = confusion_matrix_from_scratch(Y_actual, Y_pred)\n",
        "print(f\"Confusion Matrix (from scratch):\\n{cm}\")\n",
        "\n",
        "precision, recall, f1 = calculate_precision_recall_f1(cm)\n",
        "print(\"\\nPrecision, Recall, F1-Score (from scratch):\")\n",
        "for i in range(len(precision)):\n",
        "    print(f\"Class {i}: Precision = {precision[i]}, Recall = {recall[i]}, F1-Score = {f1[i]}\")\n",
        "\n",
        "\n",
        "accuracy = accuracy_score(Y_actual, Y_pred)\n",
        "precision_lib = precision_score(Y_actual, Y_pred, average=None)\n",
        "recall_lib = recall_score(Y_actual, Y_pred, average=None)\n",
        "f1_lib = f1_score(Y_actual, Y_pred, average=None)\n",
        "confusion_matrix_lib = confusion_matrix(Y_actual, Y_pred)\n",
        "\n",
        "\n"
      ],
      "metadata": {
        "id": "SIJYkOu68zk5",
        "outputId": "e485f845-e47f-4f0d-b9e8-4adf89e58b76",
        "colab": {
          "base_uri": "https://localhost:8080/"
        }
      },
      "execution_count": null,
      "outputs": [
        {
          "output_type": "stream",
          "name": "stdout",
          "text": [
            "Confusion Matrix (from scratch):\n",
            "[[2 1 1]\n",
            " [1 1 2]\n",
            " [2 1 1]]\n",
            "\n",
            "Precision, Recall, F1-Score (from scratch):\n",
            "Class 0: Precision = 0.4, Recall = 0.5, F1-Score = 0.4444444444444445\n",
            "Class 1: Precision = 0.3333333333333333, Recall = 0.25, F1-Score = 0.28571428571428575\n",
            "Class 2: Precision = 0.25, Recall = 0.25, F1-Score = 0.25\n"
          ]
        }
      ]
    }
  ],
  "metadata": {
    "colab": {
      "toc_visible": true,
      "provenance": [],
      "include_colab_link": true
    },
    "kernelspec": {
      "display_name": "Python 3",
      "name": "python3"
    }
  },
  "nbformat": 4,
  "nbformat_minor": 0
}