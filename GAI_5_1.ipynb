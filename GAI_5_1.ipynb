{
  "cells": [
    {
      "cell_type": "markdown",
      "metadata": {
        "id": "view-in-github",
        "colab_type": "text"
      },
      "source": [
        "<a href=\"https://colab.research.google.com/github/Madhavi2233/Genarative-AI-2025/blob/main/GAI_5_1.ipynb\" target=\"_parent\"><img src=\"https://colab.research.google.com/assets/colab-badge.svg\" alt=\"Open In Colab\"/></a>"
      ]
    },
    {
      "cell_type": "code",
      "source": [
        "import numpy as np\n",
        "\n",
        "def sigmoid(x):\n",
        "    return 1 / (1 + np.exp(-x))\n",
        "\n",
        "def sigmoid_derivative(x):\n",
        "    return x * (1 - x)\n",
        "\n",
        "def train_ann(X, y, hidden_neurons=4, learning_rate=0.01, epochs=10000):\n",
        "    np.random.seed(42)\n",
        "    input_neurons = X.shape[1]\n",
        "    output_neurons = 1\n",
        "\n",
        "    # Initialize weights and biases\n",
        "    W1 = np.random.randn(input_neurons, hidden_neurons)\n",
        "    b1 = np.zeros((1, hidden_neurons))\n",
        "    W2 = np.random.randn(hidden_neurons, output_neurons)\n",
        "    b2 = np.zeros((1, output_neurons))\n",
        "\n",
        "    for epoch in range(epochs):\n",
        "        # Forward propagation\n",
        "        Z1 = np.dot(X, W1) + b1\n",
        "        A1 = sigmoid(Z1)\n",
        "        Z2 = np.dot(A1, W2) + b2  # Linear activation in output layer\n",
        "        A2 = Z2\n",
        "\n",
        "        # Compute error\n",
        "        error = A2 - y\n",
        "        mse = np.mean(error**2)\n",
        "\n",
        "        # Backpropagation\n",
        "        dZ2 = error\n",
        "        dW2 = np.dot(A1.T, dZ2) / len(X)\n",
        "        db2 = np.mean(dZ2, axis=0, keepdims=True)\n",
        "\n",
        "        dA1 = np.dot(dZ2, W2.T)\n",
        "        dZ1 = dA1 * sigmoid_derivative(A1)\n",
        "        dW1 = np.dot(X.T, dZ1) / len(X)\n",
        "        db1 = np.mean(dZ1, axis=0, keepdims=True)\n",
        "\n",
        "        # Update weights and biases\n",
        "        W1 -= learning_rate * dW1\n",
        "        b1 -= learning_rate * db1\n",
        "        W2 -= learning_rate * dW2\n",
        "        b2 -= learning_rate * db2\n",
        "\n",
        "        if epoch % 1000 == 0:\n",
        "            print(f'Epoch {epoch}, MSE: {mse:.6f}')\n",
        "\n",
        "    return W1, b1, W2, b2\n",
        "\n",
        "def predict(X, W1, b1, W2, b2):\n",
        "    A1 = sigmoid(np.dot(X, W1) + b1)\n",
        "    A2 = np.dot(A1, W2) + b2\n",
        "    return A2\n",
        "\n",
        "# Training data\n",
        "X_train = np.array([[0.1, 0.2], [0.2, 0.3], [0.3, 0.4], [0.6, 0.7], [0.7, 0.8], [0.8, 0.9]])\n",
        "y_train = np.array([[0.3432], [0.3490], [0.3548], [0.3720], [0.3776], [0.3832]])\n",
        "\n",
        "# Train model\n",
        "W1, b1, W2, b2 = train_ann(X_train, y_train)\n",
        "\n",
        "# Testing data\n",
        "X_test = np.array([[0.4, 0.5], [0.5, 0.6]])\n",
        "y_test = np.array([[0.3606], [0.3663]])\n",
        "\n",
        "# Predictions on test data\n",
        "y_pred = predict(X_test, W1, b1, W2, b2)\n",
        "\n",
        "# Mean Square Error on test data\n",
        "test_mse = np.mean((y_pred - y_test) ** 2)\n",
        "print(f'Test MSE: {test_mse:.6f}')\n",
        "\n",
        "# User input prediction\n",
        "x1, x2 = map(float, input(\"Enter values for x1 and x2: \").split())\n",
        "user_input = np.array([[x1, x2]])\n",
        "prediction = predict(user_input, W1, b1, W2, b2)\n",
        "print(f'Predicted output: {prediction[0][0]:.6f}')\n"
      ],
      "metadata": {
        "id": "yM7CBCmYQ9NT",
        "outputId": "f19569fd-2aa7-44be-fb28-38d1d3c1780f",
        "colab": {
          "base_uri": "https://localhost:8080/"
        }
      },
      "execution_count": null,
      "outputs": [
        {
          "output_type": "stream",
          "name": "stdout",
          "text": [
            "Epoch 0, MSE: 1.125008\n",
            "Epoch 1000, MSE: 0.003395\n",
            "Epoch 2000, MSE: 0.002367\n",
            "Epoch 3000, MSE: 0.001664\n",
            "Epoch 4000, MSE: 0.001177\n",
            "Epoch 5000, MSE: 0.000836\n",
            "Epoch 6000, MSE: 0.000596\n",
            "Epoch 7000, MSE: 0.000426\n",
            "Epoch 8000, MSE: 0.000305\n",
            "Epoch 9000, MSE: 0.000219\n",
            "Test MSE: 0.000008\n",
            "Enter values for x1 and x2: 4 5\n",
            "Predicted output: 0.329570\n"
          ]
        }
      ]
    }
  ],
  "metadata": {
    "colab": {
      "toc_visible": true,
      "provenance": [],
      "include_colab_link": true
    },
    "kernelspec": {
      "display_name": "Python 3",
      "name": "python3"
    }
  },
  "nbformat": 4,
  "nbformat_minor": 0
}