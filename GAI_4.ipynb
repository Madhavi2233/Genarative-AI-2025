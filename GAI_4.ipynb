{
  "cells": [
    {
      "cell_type": "markdown",
      "metadata": {
        "id": "view-in-github",
        "colab_type": "text"
      },
      "source": [
        "<a href=\"https://colab.research.google.com/github/Madhavi2233/Genarative-AI-2025/blob/main/GAI_4.ipynb\" target=\"_parent\"><img src=\"https://colab.research.google.com/assets/colab-badge.svg\" alt=\"Open In Colab\"/></a>"
      ]
    },
    {
      "cell_type": "code",
      "source": [
        "#1"
      ],
      "metadata": {
        "id": "FpnVoPF_Ux-X"
      },
      "execution_count": null,
      "outputs": []
    },
    {
      "cell_type": "code",
      "source": [
        "import random\n",
        "\n",
        "# Initialize parameters\n",
        "random.seed(42)\n",
        "w1, w2, w3 = random.random(), random.random(), random.random()\n",
        "bias = random.random()\n",
        "\n",
        "# Training data\n",
        "X_train = [\n",
        "    (0.1, 0.2, 0.3), (0.2, 0.3, 0.4), (0.3, 0.4, 0.5), (0.5, 0.6, 0.7),\n",
        "    (0.1, 0.3, 0.5), (0.2, 0.4, 0.6), (0.3, 0.5, 0.7), (0.4, 0.6, 0.8), (0.5, 0.7, 0.1)\n",
        "]\n",
        "y_train = [0.14, 0.20, 0.26, 0.38, 0.22, 0.28, 0.34, 0.40, 0.22]\n",
        "\n",
        "# Hyperparameters\n",
        "learning_rate = 0.01\n",
        "epochs = 1000\n",
        "\n",
        "# Training the model\n",
        "for epoch in range(epochs):\n",
        "    total_error = 0\n",
        "    for (x1, x2, x3), y in zip(X_train, y_train):\n",
        "        # Forward pass (Linear function)\n",
        "        y_pred = w1 * x1 + w2 * x2 + w3 * x3 + bias\n",
        "\n",
        "        # Compute error\n",
        "        error = y_pred - y\n",
        "        total_error += error ** 2\n",
        "\n",
        "        # Backpropagation (Gradient Descent Updates)\n",
        "        w1 -= learning_rate * error * x1\n",
        "        w2 -= learning_rate * error * x2\n",
        "        w3 -= learning_rate * error * x3\n",
        "        bias -= learning_rate * error\n",
        "\n",
        "    if epoch % 100 == 0:\n",
        "        print(f\"Epoch {epoch}, MSE: {total_error / len(X_train):.6f}\")\n",
        "\n",
        "# Test data\n",
        "X_test = [(0.6, 0.7, 0.8), (0.7, 0.8, 0.9)]\n",
        "y_test = [0.44, 0.50]\n",
        "\n",
        "# Predictions on test data\n",
        "y_pred = [w1 * x1 + w2 * x2 + w3 * x3 + bias for x1, x2, x3 in X_test]\n",
        "\n",
        "# Mean Square Error on test data\n",
        "test_mse = sum((yp - yt) ** 2 for yp, yt in zip(y_pred, y_test)) / len(y_test)\n",
        "print(f\"Test MSE: {test_mse:.6f}\")\n",
        "\n",
        "# User input prediction\n",
        "x1, x2, x3 = map(float, input(\"Enter values for x1, x2, and x3: \").split())\n",
        "user_pred = w1 * x1 + w2 * x2 + w3 * x3 + bias\n",
        "print(f\"Predicted output: {user_pred:.6f}\")\n"
      ],
      "metadata": {
        "id": "3msAT1uIU3b8",
        "outputId": "fd106c9d-854c-494c-ad2b-c75c54eb6419",
        "colab": {
          "base_uri": "https://localhost:8080/"
        }
      },
      "execution_count": null,
      "outputs": [
        {
          "output_type": "stream",
          "name": "stdout",
          "text": [
            "Epoch 0, MSE: 0.076422\n",
            "Epoch 100, MSE: 0.001030\n",
            "Epoch 200, MSE: 0.000668\n",
            "Epoch 300, MSE: 0.000483\n",
            "Epoch 400, MSE: 0.000387\n",
            "Epoch 500, MSE: 0.000336\n",
            "Epoch 600, MSE: 0.000308\n",
            "Epoch 700, MSE: 0.000291\n",
            "Epoch 800, MSE: 0.000279\n",
            "Epoch 900, MSE: 0.000271\n",
            "Test MSE: 0.001025\n",
            "Enter values for x1, x2, and x3: 2 5 8\n",
            "Predicted output: 2.787431\n"
          ]
        }
      ]
    },
    {
      "cell_type": "code",
      "source": [
        "#2"
      ],
      "metadata": {
        "id": "qrswWOnlVHzI"
      },
      "execution_count": null,
      "outputs": []
    },
    {
      "cell_type": "code",
      "source": [
        "import random\n",
        "\n",
        "def sigmoid(x):\n",
        "    return 1 / (1 + (2.71828 ** -x))\n",
        "\n",
        "def sigmoid_derivative(x):\n",
        "    return x * (1 - x)\n",
        "\n",
        "# Initialize parameters\n",
        "random.seed(42)\n",
        "w1, w2, w3 = random.random(), random.random(), random.random()\n",
        "bias = random.random()\n",
        "\n",
        "# Training data\n",
        "X_train = [\n",
        "    (0.1, 0.2, 0.3), (0.2, 0.3, 0.4), (0.3, 0.4, 0.5), (0.5, 0.6, 0.7),\n",
        "    (0.1, 0.3, 0.5), (0.2, 0.4, 0.6), (0.3, 0.5, 0.7), (0.4, 0.6, 0.8), (0.5, 0.7, 0.1)\n",
        "]\n",
        "y_train = [0.5349, 0.5498, 0.5646, 0.5939, 0.5548, 0.5695, 0.5842, 0.5987, 0.5548]\n",
        "\n",
        "# Hyperparameters\n",
        "learning_rate = 0.1\n",
        "epochs = 1000\n",
        "\n",
        "# Training the model\n",
        "for epoch in range(epochs):\n",
        "    total_error = 0\n",
        "    for (x1, x2, x3), y in zip(X_train, y_train):\n",
        "        # Forward pass\n",
        "        weighted_sum = w1 * x1 + w2 * x2 + w3 * x3 + bias\n",
        "        y_pred = sigmoid(weighted_sum)\n",
        "\n",
        "        # Compute error\n",
        "        error = y - y_pred\n",
        "        total_error += error ** 2\n",
        "\n",
        "        # Backpropagation\n",
        "        gradient = error * sigmoid_derivative(y_pred)\n",
        "        w1 += learning_rate * gradient * x1\n",
        "        w2 += learning_rate * gradient * x2\n",
        "        w3 += learning_rate * gradient * x3\n",
        "        bias += learning_rate * gradient\n",
        "\n",
        "    if epoch % 100 == 0:\n",
        "        print(f\"Epoch {epoch}, MSE: {total_error / len(X_train):.6f}\")\n",
        "\n",
        "# Test data\n",
        "X_test = [(0.6, 0.7, 0.8), (0.7, 0.8, 0.9)]\n",
        "y_test = [0.6083, 0.6225]\n",
        "\n",
        "# Predictions on test data\n",
        "y_pred = [sigmoid(w1 * x1 + w2 * x2 + w3 * x3 + bias) for x1, x2, x3 in X_test]\n",
        "\n",
        "# Mean Square Error on test data\n",
        "test_mse = sum((yp - yt) ** 2 for yp, yt in zip(y_pred, y_test)) / len(y_test)\n",
        "print(f\"Test MSE: {test_mse:.6f}\")\n",
        "\n",
        "# User input prediction\n",
        "x1, x2, x3 = map(float, input(\"Enter values for x1, x2, and x3: \").split())\n",
        "user_pred = sigmoid(w1 * x1 + w2 * x2 + w3 * x3 + bias)\n",
        "print(f\"Predicted output: {user_pred:.6f}\")\n"
      ],
      "metadata": {
        "id": "InXJTKhUVI7y",
        "outputId": "afd9c813-22aa-47dd-a1a4-c2ff07f2fb4f",
        "colab": {
          "base_uri": "https://localhost:8080/"
        }
      },
      "execution_count": null,
      "outputs": [
        {
          "output_type": "stream",
          "name": "stdout",
          "text": [
            "Epoch 0, MSE: 0.004555\n",
            "Epoch 100, MSE: 0.000075\n",
            "Epoch 200, MSE: 0.000056\n",
            "Epoch 300, MSE: 0.000043\n",
            "Epoch 400, MSE: 0.000035\n",
            "Epoch 500, MSE: 0.000029\n",
            "Epoch 600, MSE: 0.000025\n",
            "Epoch 700, MSE: 0.000022\n",
            "Epoch 800, MSE: 0.000021\n",
            "Epoch 900, MSE: 0.000019\n",
            "Test MSE: 0.000068\n",
            "Enter values for x1, x2, and x3: 8 5 2\n",
            "Predicted output: 0.978600\n"
          ]
        }
      ]
    }
  ],
  "metadata": {
    "colab": {
      "toc_visible": true,
      "provenance": [],
      "include_colab_link": true
    },
    "kernelspec": {
      "display_name": "Python 3",
      "name": "python3"
    }
  },
  "nbformat": 4,
  "nbformat_minor": 0
}