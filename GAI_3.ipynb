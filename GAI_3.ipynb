{
  "cells": [
    {
      "cell_type": "markdown",
      "metadata": {
        "id": "view-in-github",
        "colab_type": "text"
      },
      "source": [
        "<a href=\"https://colab.research.google.com/github/Madhavi2233/Genarative-AI-2025/blob/main/GAI_3.ipynb\" target=\"_parent\"><img src=\"https://colab.research.google.com/assets/colab-badge.svg\" alt=\"Open In Colab\"/></a>"
      ]
    },
    {
      "cell_type": "code",
      "source": [
        "#1"
      ],
      "metadata": {
        "id": "fQpR_39eSk7T"
      },
      "execution_count": null,
      "outputs": []
    },
    {
      "cell_type": "code",
      "source": [
        "# Define the function and its derivative\n",
        "def f(x):\n",
        "    return 5 * x**4 + 3 * x**2 + 10\n",
        "\n",
        "def df(x):  # Derivative of f(x)\n",
        "    return 20 * x**3 + 6 * x\n",
        "\n",
        "# Gradient Descent Algorithm\n",
        "def gradient_descent(learning_rate=0.01, max_iters=1000, tolerance=1e-6):\n",
        "    x = 1.0  # Initial guess\n",
        "    for i in range(max_iters):\n",
        "        grad = df(x)\n",
        "        new_x = x - learning_rate * grad\n",
        "\n",
        "        # Stopping condition\n",
        "        if abs(new_x - x) < tolerance:\n",
        "            break\n",
        "\n",
        "        x = new_x\n",
        "\n",
        "    return x, f(x)\n",
        "\n",
        "# Find minimum value\n",
        "x_min, f_min = gradient_descent()\n",
        "print(f\"The minimum value of f(x) occurs at x = {x_min}\")\n",
        "print(f\"The minimum function value is f(x) = {f_min}\")"
      ],
      "metadata": {
        "id": "C7zFp3EqSdIs",
        "outputId": "a24078d9-65ee-4768-cc2a-c2e649ca6bd6",
        "colab": {
          "base_uri": "https://localhost:8080/"
        }
      },
      "execution_count": null,
      "outputs": [
        {
          "output_type": "stream",
          "name": "stdout",
          "text": [
            "The minimum value of f(x) occurs at x = 1.63586104206045e-05\n",
            "The minimum function value is f(x) = 10.000000000802812\n"
          ]
        }
      ]
    },
    {
      "cell_type": "code",
      "source": [
        "#2"
      ],
      "metadata": {
        "id": "pvziudl_ShzE"
      },
      "execution_count": null,
      "outputs": []
    },
    {
      "cell_type": "code",
      "source": [
        "# Define the function and its partial derivatives\n",
        "def g(x, y):\n",
        "    return 3 * x**2 + 5 * (2.71828 ** (-y)) + 10\n",
        "\n",
        "def dg_dx(x, y):  # Partial derivative with respect to x\n",
        "    return 6 * x\n",
        "\n",
        "def dg_dy(x, y):  # Partial derivative with respect to y\n",
        "    return -5 * (2.71828 ** (-y))\n",
        "\n",
        "# Gradient Descent Algorithm\n",
        "def gradient_descent(learning_rate=0.01, max_iters=1000, tolerance=1e-6):\n",
        "    x, y = 1.0, 1.0  # Initial guess\n",
        "    for i in range(max_iters):\n",
        "        grad_x = dg_dx(x, y)\n",
        "        grad_y = dg_dy(x, y)\n",
        "\n",
        "        new_x = x - learning_rate * grad_x\n",
        "        new_y = y - learning_rate * grad_y\n",
        "\n",
        "        # Stopping condition\n",
        "        if abs(new_x - x) < tolerance and abs(new_y - y) < tolerance:\n",
        "            break\n",
        "\n",
        "        x, y = new_x, new_y\n",
        "\n",
        "    return x, y, g(x, y)\n",
        "\n",
        "# Find minimum value\n",
        "x_min, y_min, g_min = gradient_descent()\n",
        "print(f\"The minimum value of g(x, y) occurs at x = {x_min}, y = {y_min}\")\n",
        "print(f\"The minimum function value is g(x, y) = {g_min}\")"
      ],
      "metadata": {
        "id": "oBUiNlDXSiDO",
        "outputId": "5db9f688-f74a-4c79-8a96-6fdfba2f3573",
        "colab": {
          "base_uri": "https://localhost:8080/"
        }
      },
      "execution_count": null,
      "outputs": [
        {
          "output_type": "stream",
          "name": "stdout",
          "text": [
            "The minimum value of g(x, y) occurs at x = 1.3423123924933694e-27, y = 3.966372788969171\n",
            "The minimum function value is g(x, y) = 10.094710329515651\n"
          ]
        }
      ]
    },
    {
      "cell_type": "code",
      "source": [
        "#3"
      ],
      "metadata": {
        "id": "fJxFeGhlS0Jx"
      },
      "execution_count": null,
      "outputs": []
    },
    {
      "cell_type": "code",
      "source": [
        "# Define the sigmoid function and its derivative\n",
        "def sigmoid(x):\n",
        "    return 1 / (1 + (2.71828 ** -x))\n",
        "\n",
        "def sigmoid_derivative(x):\n",
        "    sig = sigmoid(x)\n",
        "    return sig * (1 - sig)\n",
        "\n",
        "# Gradient Descent Algorithm\n",
        "def gradient_descent(learning_rate=0.1, max_iters=1000, tolerance=1e-6):\n",
        "    x = 1.0  # Initial guess\n",
        "    for i in range(max_iters):\n",
        "        grad = sigmoid_derivative(x)\n",
        "        new_x = x - learning_rate * grad\n",
        "\n",
        "        # Stopping condition\n",
        "        if abs(new_x - x) < tolerance:\n",
        "            break\n",
        "\n",
        "        x = new_x\n",
        "\n",
        "    return x, sigmoid(x)\n",
        "\n",
        "# Find minimum value\n",
        "x_min, z_min = gradient_descent()\n",
        "print(f\"The minimum practical value of z(x) occurs at x = {x_min}\")\n",
        "print(f\"The function value is z(x) = {z_min}\")"
      ],
      "metadata": {
        "id": "GMY8CzZSS1IF",
        "outputId": "306219dd-6bed-457f-fbeb-85d4a97a9944",
        "colab": {
          "base_uri": "https://localhost:8080/"
        }
      },
      "execution_count": null,
      "outputs": [
        {
          "output_type": "stream",
          "name": "stdout",
          "text": [
            "The minimum practical value of z(x) occurs at x = -4.4644756132889425\n",
            "The function value is z(x) = 0.011379774906243903\n"
          ]
        }
      ]
    },
    {
      "cell_type": "code",
      "source": [
        "#4"
      ],
      "metadata": {
        "id": "6nrIboX8TFh1"
      },
      "execution_count": null,
      "outputs": []
    },
    {
      "cell_type": "code",
      "source": [
        "# Define the function and its derivatives\n",
        "def squared_error(y_true, y_pred):\n",
        "    return (y_true - y_pred) ** 2\n",
        "\n",
        "def dSE_dM(X, y_true, M, C):\n",
        "    return -2 * sum(X * (y_true - (M * X + C))) / len(X)\n",
        "\n",
        "def dSE_dC(X, y_true, M, C):\n",
        "    return -2 * sum(y_true - (M * X + C)) / len(X)\n",
        "\n",
        "# Gradient Descent Algorithm\n",
        "def gradient_descent(X, y_true, learning_rate=0.01, max_iters=1000, tolerance=1e-6):\n",
        "    M, C = 0.0, 0.0  # Initial guesses\n",
        "    for i in range(max_iters):\n",
        "        grad_M = dSE_dM(X, y_true, M, C)\n",
        "        grad_C = dSE_dC(X, y_true, M, C)\n",
        "\n",
        "        new_M = M - learning_rate * grad_M\n",
        "        new_C = C - learning_rate * grad_C\n",
        "\n",
        "        # Stopping condition\n",
        "        if abs(new_M - M) < tolerance and abs(new_C - C) < tolerance:\n",
        "            break\n",
        "\n",
        "        M, C = new_M, new_C\n",
        "\n",
        "    return M, C\n",
        "\n",
        "# Sample Data (Modify as needed)\n",
        "X = [1, 2, 3, 4, 5]  # Input values\n",
        "y_true = [2, 4, 6, 8, 10]  # Expected outputs\n",
        "\n",
        "# Find optimal parameters\n",
        "M_opt, C_opt = gradient_descent(X, y_true)\n",
        "print(f\"Optimal values: M = {M_opt}, C = {C_opt}\")"
      ],
      "metadata": {
        "id": "PKiJIYTTUBOi"
      },
      "execution_count": null,
      "outputs": []
    }
  ],
  "metadata": {
    "colab": {
      "toc_visible": true,
      "provenance": [],
      "include_colab_link": true
    },
    "kernelspec": {
      "display_name": "Python 3",
      "name": "python3"
    }
  },
  "nbformat": 4,
  "nbformat_minor": 0
}